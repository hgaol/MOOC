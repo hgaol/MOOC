{
 "metadata": {
  "name": "",
  "signature": "sha256:688ae899db8141fc92e6b104f646b74c2d597582744e909113e958aa972b250c"
 },
 "nbformat": 3,
 "nbformat_minor": 0,
 "worksheets": [
  {
   "cells": [
    {
     "cell_type": "markdown",
     "metadata": {},
     "source": [
      "# Softmax exercise\n",
      "\n",
      "*Complete and hand in this completed worksheet (including its outputs and any supporting code outside of the worksheet) with your assignment submission. For more details see the [assignments page](http://vision.stanford.edu/teaching/cs231n/assignments.html) on the course website.*\n",
      "\n",
      "This exercise is analogous to the SVM exercise. You will:\n",
      "\n",
      "- implement a fully-vectorized **loss function** for the Softmax classifier\n",
      "- implement the fully-vectorized expression for its **analytic gradient**\n",
      "- **check your implementation** with numerical gradient\n",
      "- use a validation set to **tune the learning rate and regularization** strength\n",
      "- **optimize** the loss function with **SGD**\n",
      "- **visualize** the final learned weights\n"
     ]
    },
    {
     "cell_type": "code",
     "collapsed": false,
     "input": [
      "import random\n",
      "import numpy as np\n",
      "from cs231n.data_utils import load_CIFAR10\n",
      "import matplotlib.pyplot as plt\n",
      "%matplotlib inline\n",
      "plt.rcParams['figure.figsize'] = (10.0, 8.0) # set default size of plots\n",
      "plt.rcParams['image.interpolation'] = 'nearest'\n",
      "plt.rcParams['image.cmap'] = 'gray'\n",
      "\n",
      "# for auto-reloading extenrnal modules\n",
      "# see http://stackoverflow.com/questions/1907993/autoreload-of-modules-in-ipython\n",
      "%load_ext autoreload\n",
      "%autoreload 2"
     ],
     "language": "python",
     "metadata": {},
     "outputs": [],
     "prompt_number": 1
    },
    {
     "cell_type": "code",
     "collapsed": false,
     "input": [
      "def get_CIFAR10_data(num_training=49000, num_validation=1000, num_test=1000):\n",
      "  \"\"\"\n",
      "  Load the CIFAR-10 dataset from disk and perform preprocessing to prepare\n",
      "  it for the linear classifier. These are the same steps as we used for the\n",
      "  SVM, but condensed to a single function.  \n",
      "  \"\"\"\n",
      "  # Load the raw CIFAR-10 data\n",
      "  cifar10_dir = 'cs231n/datasets/cifar-10-batches-py'\n",
      "  X_train, y_train, X_test, y_test = load_CIFAR10(cifar10_dir)\n",
      "  \n",
      "  # subsample the data\n",
      "  mask = range(num_training, num_training + num_validation)\n",
      "  X_val = X_train[mask]\n",
      "  y_val = y_train[mask]\n",
      "  mask = range(num_training)\n",
      "  X_train = X_train[mask]\n",
      "  y_train = y_train[mask]\n",
      "  mask = range(num_test)\n",
      "  X_test = X_test[mask]\n",
      "  y_test = y_test[mask]\n",
      "  \n",
      "  # Preprocessing: reshape the image data into rows\n",
      "  X_train = np.reshape(X_train, (X_train.shape[0], -1))\n",
      "  X_val = np.reshape(X_val, (X_val.shape[0], -1))\n",
      "  X_test = np.reshape(X_test, (X_test.shape[0], -1))\n",
      "  \n",
      "  # Normalize the data: subtract the mean image\n",
      "  mean_image = np.mean(X_train, axis = 0)\n",
      "  X_train -= mean_image\n",
      "  X_val -= mean_image\n",
      "  X_test -= mean_image\n",
      "  \n",
      "  # add bias dimension and transform into columns\n",
      "  X_train = np.hstack([X_train, np.ones((X_train.shape[0], 1))]).T\n",
      "  X_val = np.hstack([X_val, np.ones((X_val.shape[0], 1))]).T\n",
      "  X_test = np.hstack([X_test, np.ones((X_test.shape[0], 1))]).T\n",
      "  \n",
      "  return X_train, y_train, X_val, y_val, X_test, y_test\n",
      "\n",
      "\n",
      "# Invoke the above function to get our data.\n",
      "X_train, y_train, X_val, y_val, X_test, y_test = get_CIFAR10_data()\n",
      "print 'Train data shape: ', X_train.shape\n",
      "print 'Train labels shape: ', y_train.shape\n",
      "print 'Validation data shape: ', X_val.shape\n",
      "print 'Validation labels shape: ', y_val.shape\n",
      "print 'Test data shape: ', X_test.shape\n",
      "print 'Test labels shape: ', y_test.shape"
     ],
     "language": "python",
     "metadata": {},
     "outputs": [
      {
       "output_type": "stream",
       "stream": "stdout",
       "text": [
        "Train data shape:  (3073, 49000)\n",
        "Train labels shape:  (49000,)\n",
        "Validation data shape:  (3073, 1000)\n",
        "Validation labels shape:  (1000,)\n",
        "Test data shape:  (3073, 1000)\n",
        "Test labels shape:  (1000,)\n"
       ]
      }
     ],
     "prompt_number": 2
    },
    {
     "cell_type": "markdown",
     "metadata": {},
     "source": [
      "## Softmax Classifier\n",
      "\n",
      "Your code for this section will all be written inside **cs231n/classifiers/softmax.py**. \n"
     ]
    },
    {
     "cell_type": "code",
     "collapsed": false,
     "input": [
      "# First implement the naive softmax loss function with nested loops.\n",
      "# Open the file cs231n/classifiers/softmax.py and implement the\n",
      "# softmax_loss_naive function.\n",
      "\n",
      "from cs231n.classifiers.softmax import softmax_loss_naive\n",
      "import time\n",
      "\n",
      "# Generate a random softmax weight matrix and use it to compute the loss.\n",
      "W = np.random.randn(10, 3073) * 0.0001\n",
      "loss, grad = softmax_loss_naive(W, X_train, y_train, 0.0)\n",
      "\n",
      "# As a rough sanity check, our loss should be something close to -log(0.1).\n",
      "print 'loss: %f' % loss\n",
      "print 'sanity check: %f' % (-np.log(0.1))"
     ],
     "language": "python",
     "metadata": {},
     "outputs": [
      {
       "output_type": "stream",
       "stream": "stdout",
       "text": [
        "loss: 2.341565\n",
        "sanity check: 2.302585\n"
       ]
      }
     ],
     "prompt_number": 32
    },
    {
     "cell_type": "markdown",
     "metadata": {},
     "source": [
      "## Inline Question 1:\n",
      "Why do we expect our loss to be close to -log(0.1)? Explain briefly.**\n",
      "\n",
      "**Your answer:** *Fill this in*\n"
     ]
    },
    {
     "cell_type": "code",
     "collapsed": false,
     "input": [
      "# Complete the implementation of softmax_loss_naive and implement a (naive)\n",
      "# version of the gradient that uses nested loops.\n",
      "loss, grad = softmax_loss_naive(W, X_train, y_train, 0.0)\n",
      "\n",
      "# As we did for the SVM, use numeric gradient checking as a debugging tool.\n",
      "# The numeric gradient should be close to the analytic gradient.\n",
      "from cs231n.gradient_check import grad_check_sparse\n",
      "f = lambda w: softmax_loss_naive(w, X_train, y_train, 0.0)[0]\n",
      "grad_numerical = grad_check_sparse(f, W, grad, 10)"
     ],
     "language": "python",
     "metadata": {},
     "outputs": [
      {
       "output_type": "stream",
       "stream": "stdout",
       "text": [
        "numerical: 2.226940 analytic: 2.226940, relative error: 2.163038e-08\n",
        "numerical: -2.864618 analytic: -2.864618, relative error: 2.710864e-08"
       ]
      },
      {
       "output_type": "stream",
       "stream": "stdout",
       "text": [
        "\n",
        "numerical: -5.566276 analytic: -5.566276, relative error: 3.003342e-09"
       ]
      },
      {
       "output_type": "stream",
       "stream": "stdout",
       "text": [
        "\n",
        "numerical: 3.853018 analytic: 3.853018, relative error: 4.903335e-09"
       ]
      },
      {
       "output_type": "stream",
       "stream": "stdout",
       "text": [
        "\n",
        "numerical: 1.038819 analytic: 1.038819, relative error: 1.489483e-09"
       ]
      },
      {
       "output_type": "stream",
       "stream": "stdout",
       "text": [
        "\n",
        "numerical: 2.937324 analytic: 2.937324, relative error: 4.194518e-08"
       ]
      },
      {
       "output_type": "stream",
       "stream": "stdout",
       "text": [
        "\n",
        "numerical: -2.309725 analytic: -2.309725, relative error: 2.463151e-09"
       ]
      },
      {
       "output_type": "stream",
       "stream": "stdout",
       "text": [
        "\n",
        "numerical: -4.561781 analytic: -4.561781, relative error: 8.525722e-09"
       ]
      },
      {
       "output_type": "stream",
       "stream": "stdout",
       "text": [
        "\n",
        "numerical: -2.380667 analytic: -2.380667, relative error: 4.537936e-08"
       ]
      },
      {
       "output_type": "stream",
       "stream": "stdout",
       "text": [
        "\n",
        "numerical: -0.532306 analytic: -0.532306, relative error: 4.723512e-08"
       ]
      },
      {
       "output_type": "stream",
       "stream": "stdout",
       "text": [
        "\n"
       ]
      }
     ],
     "prompt_number": 33
    },
    {
     "cell_type": "code",
     "collapsed": false,
     "input": [
      "# Now that we have a naive implementation of the softmax loss function and its gradient,\n",
      "# implement a vectorized version in softmax_loss_vectorized.\n",
      "# The two versions should compute the same results, but the vectorized version should be\n",
      "# much faster.\n",
      "tic = time.time()\n",
      "loss_naive, grad_naive = softmax_loss_naive(W, X_train, y_train, 0.00001)\n",
      "toc = time.time()\n",
      "print 'naive loss: %e computed in %fs' % (loss_naive, toc - tic)\n",
      "\n",
      "from cs231n.classifiers.softmax import softmax_loss_vectorized\n",
      "tic = time.time()\n",
      "loss_vectorized, grad_vectorized = softmax_loss_vectorized(W, X_train, y_train, 0.00001)\n",
      "toc = time.time()\n",
      "print 'vectorized loss: %e computed in %fs' % (loss_vectorized, toc - tic)\n",
      "\n",
      "# As we did for the SVM, we use the Frobenius norm to compare the two versions\n",
      "# of the gradient.\n",
      "grad_difference = np.linalg.norm(grad_naive - grad_vectorized, ord='fro')\n",
      "print 'Loss difference: %f' % np.abs(loss_naive - loss_vectorized)\n",
      "print 'Gradient difference: %f' % grad_difference"
     ],
     "language": "python",
     "metadata": {},
     "outputs": [
      {
       "output_type": "stream",
       "stream": "stdout",
       "text": [
        "naive loss: 2.341565e+00 computed in 11.341105s\n",
        "vectorized loss: 1.314669e+01 computed in 1.422376s"
       ]
      },
      {
       "output_type": "stream",
       "stream": "stdout",
       "text": [
        "\n",
        "Loss difference: 10.805128\n",
        "Gradient difference: 0.000000\n"
       ]
      }
     ],
     "prompt_number": 34
    },
    {
     "cell_type": "code",
     "collapsed": false,
     "input": [
      "# Use the validation set to tune hyperparameters (regularization strength and\n",
      "# learning rate). You should experiment with different ranges for the learning\n",
      "# rates and regularization strengths; if you are careful you should be able to\n",
      "# get a classification accuracy of over 0.35 on the validation set.\n",
      "from cs231n.classifiers import Softmax\n",
      "results = {}\n",
      "best_val = -1\n",
      "best_softmax = None\n",
      "learning_rates = [1e-7, 5e-7]\n",
      "regularization_strengths = [5e4, 1e8]\n",
      "\n",
      "################################################################################\n",
      "# TODO:                                                                        #\n",
      "# Use the validation set to set the learning rate and regularization strength. #\n",
      "# This should be identical to the validation that you did for the SVM; save    #\n",
      "# the best trained softmax classifer in best_softmax.                          #\n",
      "################################################################################\n",
      "iters = 2000\n",
      "for lr in learning_rates:\n",
      "    for rs in regularization_strengths:\n",
      "        softmax = Softmax()\n",
      "        softmax.train(X_train, y_train, learning_rate=lr, reg=rs, num_iters=iters)\n",
      "        \n",
      "        y_train_pred = softmax.predict(X_train)\n",
      "        acc_train = np.mean(y_train == y_train_pred)\n",
      "        y_val_pred = softmax.predict(X_val)\n",
      "        acc_val = np.mean(y_val == y_val_pred)\n",
      "        \n",
      "        results[(lr, rs)] = (acc_train, acc_val)\n",
      "        \n",
      "        if best_val < acc_val:\n",
      "            best_val = acc_val\n",
      "            best_softmax = softmax\n",
      "################################################################################\n",
      "#                              END OF YOUR CODE                                #\n",
      "################################################################################\n",
      "    \n",
      "# Print out results.\n",
      "for lr, reg in sorted(results):\n",
      "    train_accuracy, val_accuracy = results[(lr, reg)]\n",
      "    print 'lr %e reg %e train accuracy: %f val accuracy: %f' % (\n",
      "                lr, reg, train_accuracy, val_accuracy)\n",
      "    \n",
      "print 'best validation accuracy achieved during cross-validation: %f' % best_val"
     ],
     "language": "python",
     "metadata": {},
     "outputs": [
      {
       "output_type": "stream",
       "stream": "stdout",
       "text": [
        "lr 1.000000e-07 reg 5.000000e+04 train accuracy: 0.328755 val accuracy: 0.341000\n",
        "lr 1.000000e-07 reg 1.000000e+08 train accuracy: 0.100265 val accuracy: 0.087000\n",
        "lr 5.000000e-07 reg 5.000000e+04 train accuracy: 0.329878 val accuracy: 0.337000\n",
        "lr 5.000000e-07 reg 1.000000e+08 train accuracy: 0.100265 val accuracy: 0.087000\n",
        "best validation accuracy achieved during cross-validation: 0.341000\n"
       ]
      },
      {
       "output_type": "stream",
       "stream": "stderr",
       "text": [
        "cs231n/classifiers/softmax.py:81: RuntimeWarning: divide by zero encountered in log\n",
        "cs231n/classifiers/softmax.py:83: RuntimeWarning: invalid value encountered in divide\n"
       ]
      }
     ],
     "prompt_number": 35
    },
    {
     "cell_type": "code",
     "collapsed": false,
     "input": [
      "# evaluate on test set\n",
      "# Evaluate the best svm on test set\n",
      "y_test_pred = best_softmax.predict(X_test)\n",
      "test_accuracy = np.mean(y_test == y_test_pred)\n",
      "print 'softmax on raw pixels final test set accuracy: %f' % (test_accuracy, )"
     ],
     "language": "python",
     "metadata": {},
     "outputs": [
      {
       "output_type": "stream",
       "stream": "stdout",
       "text": [
        "softmax on raw pixels final test set accuracy: 0.339000\n"
       ]
      }
     ],
     "prompt_number": 36
    },
    {
     "cell_type": "code",
     "collapsed": false,
     "input": [
      "# Visualize the learned weights for each class\n",
      "w = best_softmax.W[:,:-1] # strip out the bias\n",
      "w = w.reshape(10, 32, 32, 3)\n",
      "\n",
      "w_min, w_max = np.min(w), np.max(w)\n",
      "\n",
      "classes = ['plane', 'car', 'bird', 'cat', 'deer', 'dog', 'frog', 'horse', 'ship', 'truck']\n",
      "for i in xrange(10):\n",
      "  plt.subplot(2, 5, i + 1)\n",
      "  \n",
      "  # Rescale the weights to be between 0 and 255\n",
      "  wimg = 255.0 * (w[i].squeeze() - w_min) / (w_max - w_min)\n",
      "  plt.imshow(wimg.astype('uint8'))\n",
      "  plt.axis('off')\n",
      "  plt.title(classes[i])"
     ],
     "language": "python",
     "metadata": {},
     "outputs": [
      {
       "metadata": {},
       "output_type": "display_data",
       "png": "[encoded data removed]",
       "text": [
        "<matplotlib.figure.Figure at 0x7fd0a56e52d0>"
       ]
      }
     ],
     "prompt_number": 37
    },
    {
     "cell_type": "code",
     "collapsed": false,
     "input": [],
     "language": "python",
     "metadata": {},
     "outputs": []
    }
   ],
   "metadata": {}
  }
 ]
}